{
  "nbformat": 4,
  "nbformat_minor": 0,
  "metadata": {
    "colab": {
      "name": "AnimalClassifier.ipynb",
      "provenance": [],
      "collapsed_sections": [
        "gZ1CjYJ5AJ-p",
        "J85kHY_sAdnl",
        "1pLKq6lIEMao",
        "ZK9XXQq2Ia9F",
        "MJ3z9pcFISb9",
        "g4O2a2F7KAiv"
      ],
      "authorship_tag": "ABX9TyONh2HvE9DnKT2NBPgPbceg",
      "include_colab_link": true
    },
    "kernelspec": {
      "name": "python3",
      "display_name": "Python 3"
    },
    "language_info": {
      "name": "python"
    },
    "accelerator": "GPU"
  },
  "cells": [
    {
      "cell_type": "markdown",
      "metadata": {
        "id": "view-in-github",
        "colab_type": "text"
      },
      "source": [
        "<a href=\"https://colab.research.google.com/github/GalvanLuis/NeuralNetClass/blob/main/AnimalClassifier.ipynb\" target=\"_parent\"><img src=\"https://colab.research.google.com/assets/colab-badge.svg\" alt=\"Open In Colab\"/></a>"
      ]
    },
    {
      "cell_type": "code",
      "metadata": {
        "id": "dLPGasEv_g67"
      },
      "source": [
        "!pip install fastai --upgrade"
      ],
      "execution_count": null,
      "outputs": []
    },
    {
      "cell_type": "markdown",
      "metadata": {
        "id": "gZ1CjYJ5AJ-p"
      },
      "source": [
        "#Clasificador de animales"
      ]
    },
    {
      "cell_type": "code",
      "metadata": {
        "id": "wEtqM9dOAM99"
      },
      "source": [
        "import fastai.vision.all as fv\n",
        "import torch \n",
        "from pathlib import Path\n",
        "import pandas as pd \n",
        "from sklearn.model_selection import train_test_split\n",
        "import shutil\n",
        "import os"
      ],
      "execution_count": null,
      "outputs": []
    },
    {
      "cell_type": "markdown",
      "metadata": {
        "id": "J85kHY_sAdnl"
      },
      "source": [
        "###Manejo de archivos\n",
        ">Para comenzar con el entrenamiento de la red primero he de cargar los datos (imagenes y csv), el archivo csv contiene las etiquetas a las que pertenece cada imagen."
      ]
    },
    {
      "cell_type": "code",
      "metadata": {
        "id": "QkGi2P9MBWeA"
      },
      "source": [
        "labels = pd.DataFrame(pd.read_csv('/content/train.csv'))\n",
        "labels"
      ],
      "execution_count": null,
      "outputs": []
    },
    {
      "cell_type": "markdown",
      "metadata": {
        "id": "hd7RziwwBiFZ"
      },
      "source": [
        "###Separacion de datos\n",
        ">Ahora voy a asignar a los datos aleatoriamente \"train\" o \"valid\" para despues pasarlos a sus respectivas carpetas"
      ]
    },
    {
      "cell_type": "code",
      "metadata": {
        "id": "uZpDsyWNBblB"
      },
      "source": [
        "train, valid = train_test_split(labels, test_size = 0.33, random_state = 42) \n",
        "train.shape, valid.shape"
      ],
      "execution_count": null,
      "outputs": []
    },
    {
      "cell_type": "code",
      "metadata": {
        "id": "jiOGHe5OCgN9"
      },
      "source": [
        "pics = Path(\"/content/drive/MyDrive/AnimalsSmall/AnimalsSmall/images\")\n",
        "(pics).ls()"
      ],
      "execution_count": null,
      "outputs": []
    },
    {
      "cell_type": "markdown",
      "metadata": {
        "id": "oFNYzSVKCeWC"
      },
      "source": [
        ">Ahora que ya estan asignadas las imagenes las mandare a sus respectivas carpetas, para esto, dentro de \"train\" y \"valid\" creare nuevas subcarpetas con el nombre de la etiqueta que tienen. Es decir, si no existe una carpeta con la etiqueta de la imagen que lee, supongamos \"wolf\", la creara y de alli en adelante metera todas las imagenes de \"wolf\""
      ]
    },
    {
      "cell_type": "markdown",
      "metadata": {
        "id": "6lIW8lqYD3jC"
      },
      "source": [
        "###-Carpeta \"train\""
      ]
    },
    {
      "cell_type": "code",
      "metadata": {
        "id": "152u5UPWDt9k"
      },
      "source": [
        "tmp_train = [] \n",
        "for index, element in train.iterrows():\n",
        "        tmp_train.append((f\"/content/drive/MyDrive/AnimalsSmall/AnimalsSmall/images/{element[0]}\", element[1]))\n",
        "\n",
        "print(tmp_train)"
      ],
      "execution_count": null,
      "outputs": []
    },
    {
      "cell_type": "code",
      "metadata": {
        "id": "GJ7nbtD7Dzgf"
      },
      "source": [
        "for path in range(len(img)):\n",
        "    tmp_path = str(img[path])\n",
        "    for element in tmp_train: \n",
        "        if tmp_path == element[0]:\n",
        "            try:\n",
        "                os.mkdir(f\"/content/drive/MyDrive/AnimalsSmall/AnimalsSmall/train/{element[1]}\") # Creamos la subcarpeta\n",
        "                shutil.copy(img[path], f\"/content/drive/MyDrive/AnimalsSmall/AnimalsSmall/train/{element[1]}/\") #movemos \n",
        "            except:\n",
        "                shutil.copy(img[path], f\"/content/drive/MyDrive/AnimalsSmall/AnimalsSmall/train/{element[1]}/\") #movemos\n",
        "                \n",
        "\n"
      ],
      "execution_count": null,
      "outputs": []
    },
    {
      "cell_type": "markdown",
      "metadata": {
        "id": "bYnU3FHqEAA9"
      },
      "source": [
        "###-Carpeta \"valid\""
      ]
    },
    {
      "cell_type": "code",
      "metadata": {
        "id": "ZPkBMiukEFMm"
      },
      "source": [
        "tmp_valid = [] \n",
        "for index, element in valid.iterrows():\n",
        "        tmp_valid.append((f\"/content/images/{element[0]}\", element[1]))\n",
        "print(tmp_valid)"
      ],
      "execution_count": null,
      "outputs": []
    },
    {
      "cell_type": "code",
      "metadata": {
        "id": "olKHH6pQEF11"
      },
      "source": [
        "for path in range(len(img)):\n",
        "    tmp_path = str(img[path])\n",
        "    for element in tmp_valid: \n",
        "        if tmp_path == element[0]:\n",
        "            try:\n",
        "                os.mkdir(f\"/content/valid/{element[1]}\") # Creamos la subcarpeta\n",
        "                shutil.copy(img[path], f\"/content/valid/{element[1]}/\") #movemos \n",
        "            except:\n",
        "                shutil.copy(img[path], f\"/content/valid/{element[1]}/\") #movemos\n"
      ],
      "execution_count": null,
      "outputs": []
    },
    {
      "cell_type": "markdown",
      "metadata": {
        "id": "1pLKq6lIEMao"
      },
      "source": [
        "##**Entrenamiento**"
      ]
    },
    {
      "cell_type": "markdown",
      "metadata": {
        "id": "5QSqjQx4EkBl"
      },
      "source": [
        "> * Ahora realizare los procedimientos como los que se muestran en el video\n",
        "\n",
        ">* Aplicare algunas transformaciones a las imagenes y algunos otros paramentros para comparar entre modelos"
      ]
    },
    {
      "cell_type": "code",
      "metadata": {
        "id": "F7xVsUsjEUAt"
      },
      "source": [
        "animalitos = Path(\"/content/animalitos\");!ls \"/content/animalitos\""
      ],
      "execution_count": null,
      "outputs": []
    },
    {
      "cell_type": "code",
      "metadata": {
        "id": "DvOxyg-IFAru"
      },
      "source": [
        "files = fv.get_image_files(animalitos);files #Obtencion de archivos dentro de la carpeta y subcarpetas de \"animalitos\"\n"
      ],
      "execution_count": null,
      "outputs": []
    },
    {
      "cell_type": "code",
      "metadata": {
        "id": "hVEMzogLFHYT"
      },
      "source": [
        "def load(folder, size, batch_size):\n",
        "  tfms = fv.aug_transforms(max_rotate= 180, \n",
        "                           max_lighting=0.80, \n",
        "                           max_zoom=1.2, \n",
        "                           max_warp=0.2)\n",
        "  \n",
        "  data = fv.DataBlock(blocks = (fv.ImageBlock, fv.CategoryBlock), \n",
        "                      get_items=fv.get_image_files, \n",
        "                      get_y=fv.parent_label, \n",
        "                      splitter=fv.GrandparentSplitter(),\n",
        "                      item_tfms=fv.Resize(size), \n",
        "                      batch_tfms=tfms,)\n",
        "  return data.dataloaders(folder, bs=batch_size)"
      ],
      "execution_count": null,
      "outputs": []
    },
    {
      "cell_type": "code",
      "metadata": {
        "id": "sehPujDTFK9i"
      },
      "source": [
        "data = load(animalitos, size=128, batch_size=28) #Cargamos los archivos todos de tamaño 128x128 y el tamaño de nuestro batch es de 64"
      ],
      "execution_count": null,
      "outputs": []
    },
    {
      "cell_type": "code",
      "metadata": {
        "id": "KFTnvpzAFNMK"
      },
      "source": [
        "data.show_batch() #Listo, ahora si se muestran jaja"
      ],
      "execution_count": null,
      "outputs": []
    },
    {
      "cell_type": "code",
      "metadata": {
        "id": "oghd3KlUFQO2"
      },
      "source": [
        "x,y = data.one_batch() #x tiene al tamaño de nuestro batch, los canales de color y las dimensiones de nuestras imagenes, y tiene el tamaño de nuestro batch\n",
        "x.shape, y.shape"
      ],
      "execution_count": null,
      "outputs": []
    },
    {
      "cell_type": "markdown",
      "metadata": {
        "id": "ZK9XXQq2Ia9F"
      },
      "source": [
        "###Modelo1"
      ]
    },
    {
      "cell_type": "markdown",
      "metadata": {
        "id": "Pav8ZQvDFUQw"
      },
      "source": [
        "####Ahora utilizare un modelo preentrenado para el entrenamiento de las ultimas capas\n",
        "\n",
        ">*Nuestro modelo sera el \"resnet18\".\n",
        "Learner sera nuestro primer intento el cual toma los datos, el modelo preentrenado y nuestra metrica sera \"accuracy\""
      ]
    },
    {
      "cell_type": "code",
      "metadata": {
        "id": "XoknN2FJFQL1"
      },
      "source": [
        "learner = fv.cnn_learner(data, fv.resnet18, metrics=fv.accuracy) #Descargara los archivos del modelo preentrenado"
      ],
      "execution_count": null,
      "outputs": []
    },
    {
      "cell_type": "code",
      "metadata": {
        "id": "qRZKrofiFX0e"
      },
      "source": [
        "learner.lr_find() #Buscamos el learning rate"
      ],
      "execution_count": null,
      "outputs": []
    },
    {
      "cell_type": "code",
      "metadata": {
        "id": "fP5KCi6VFf4z"
      },
      "source": [
        "learner.fit_one_cycle(2, lr_max=1e-2) #Lo manejare a 5 epocas"
      ],
      "execution_count": null,
      "outputs": []
    },
    {
      "cell_type": "code",
      "metadata": {
        "id": "2O5loaEIFmwN"
      },
      "source": [
        "learner.recorder.plot_sched()"
      ],
      "execution_count": null,
      "outputs": []
    },
    {
      "cell_type": "code",
      "metadata": {
        "id": "V9NUewQuFq6n"
      },
      "source": [
        "learner.save('stage1') #Guardare el modelo"
      ],
      "execution_count": null,
      "outputs": []
    },
    {
      "cell_type": "code",
      "metadata": {
        "id": "UsDX4MARHAj6"
      },
      "source": [
        "#learner.load('stage1') Lo dejo aqui por si acaso"
      ],
      "execution_count": null,
      "outputs": []
    },
    {
      "cell_type": "markdown",
      "metadata": {
        "id": "9r9rtQroHaea"
      },
      "source": [
        "####Ahora hay que entrenar todas las capas"
      ]
    },
    {
      "cell_type": "code",
      "metadata": {
        "id": "00sHxzQAFuN0"
      },
      "source": [
        "learner.unfreeze() #vamos a descongelar toda la red "
      ],
      "execution_count": null,
      "outputs": []
    },
    {
      "cell_type": "code",
      "metadata": {
        "id": "xy1-0vXcHuZw"
      },
      "source": [
        "learner.lr_find()"
      ],
      "execution_count": null,
      "outputs": []
    },
    {
      "cell_type": "code",
      "metadata": {
        "id": "KU41QgPMHypu"
      },
      "source": [
        "learner.fit_one_cycle(4, lr_max=slice(1e-6, 2e-4)) #Ahora le learnig rate variara entre el rango que estoy poniendo"
      ],
      "execution_count": null,
      "outputs": []
    },
    {
      "cell_type": "code",
      "metadata": {
        "id": "4p4Rfx3XIAAB"
      },
      "source": [
        "learner.save('stage2')"
      ],
      "execution_count": null,
      "outputs": []
    },
    {
      "cell_type": "code",
      "metadata": {
        "id": "mJLdaOmxIDsw"
      },
      "source": [
        "learner.show_results(ds_idx=3, dl=data.train, shuffle=True)"
      ],
      "execution_count": null,
      "outputs": []
    },
    {
      "cell_type": "markdown",
      "metadata": {
        "id": "H_7qM4X7IGL0"
      },
      "source": [
        "####Resultados del modelo 1"
      ]
    },
    {
      "cell_type": "code",
      "metadata": {
        "id": "-k25wpMjIMAD"
      },
      "source": [
        "interp = fv.ClassificationInterpretation.from_learner(learner)"
      ],
      "execution_count": null,
      "outputs": []
    },
    {
      "cell_type": "code",
      "metadata": {
        "id": "p0kgEW71IPdo"
      },
      "source": [
        "interp.plot_top_losses(9)"
      ],
      "execution_count": null,
      "outputs": []
    },
    {
      "cell_type": "markdown",
      "metadata": {
        "id": "MJ3z9pcFISb9"
      },
      "source": [
        "###Modelo2"
      ]
    },
    {
      "cell_type": "code",
      "metadata": {
        "id": "CBfY9sCEIf-C"
      },
      "source": [
        "def load2(folder, size, batch_size):\n",
        "  tfms = fv.aug_transforms(max_rotate= 360,\n",
        "                           flip_vert=True, \n",
        "                           max_lighting=0.25, \n",
        "                           max_zoom=2.2, \n",
        "                           min_zoom=0.6,\n",
        "                           max_warp=0.7,\n",
        "                           do_flip=False\n",
        "                           )\n",
        "  \n",
        "  data = fv.DataBlock(blocks = (fv.ImageBlock, fv.CategoryBlock), \n",
        "                      get_items=fv.get_image_files, \n",
        "                      get_y=fv.parent_label, \n",
        "                      splitter=fv.GrandparentSplitter(),\n",
        "                      item_tfms=fv.Resize(size), \n",
        "                      batch_tfms=tfms,)\n",
        "  return data.dataloaders(folder, bs=batch_size)"
      ],
      "execution_count": null,
      "outputs": []
    },
    {
      "cell_type": "code",
      "metadata": {
        "id": "oJYZIsssIyaf"
      },
      "source": [
        "data2 = load2(animalitos, size=128, batch_size=100)"
      ],
      "execution_count": null,
      "outputs": []
    },
    {
      "cell_type": "code",
      "metadata": {
        "id": "EHa9RDCvI3xI"
      },
      "source": [
        "x2,y2 = data2.one_batch()"
      ],
      "execution_count": null,
      "outputs": []
    },
    {
      "cell_type": "markdown",
      "metadata": {
        "id": "LoqMFJeTJTYJ"
      },
      "source": [
        "####Entrenamiento de las ultimas capas del modelo 2"
      ]
    },
    {
      "cell_type": "code",
      "metadata": {
        "id": "Z0vGkjHII6Rz"
      },
      "source": [
        "learner2 = fv.cnn_learner(data2, fv.resnet18, metrics=fv.accuracy)"
      ],
      "execution_count": null,
      "outputs": []
    },
    {
      "cell_type": "code",
      "metadata": {
        "id": "_rQGUJtbI8wM"
      },
      "source": [
        "learner2.lr_find()"
      ],
      "execution_count": null,
      "outputs": []
    },
    {
      "cell_type": "code",
      "metadata": {
        "id": "gFpOj7aRI_Sn"
      },
      "source": [
        "learner2.fit_one_cycle(20, lr_max=0.0012022644514217973)"
      ],
      "execution_count": null,
      "outputs": []
    },
    {
      "cell_type": "code",
      "metadata": {
        "id": "boyagPcFJCOj"
      },
      "source": [
        "learner2.recorder.plot_sched()"
      ],
      "execution_count": null,
      "outputs": []
    },
    {
      "cell_type": "code",
      "metadata": {
        "id": "p_NycMIWJFZ6"
      },
      "source": [
        "learner2.save('stage1_model2')"
      ],
      "execution_count": null,
      "outputs": []
    },
    {
      "cell_type": "markdown",
      "metadata": {
        "id": "MPk36tCVJeSz"
      },
      "source": [
        "####Entrenamiento de todas las capas del modelo 2"
      ]
    },
    {
      "cell_type": "code",
      "metadata": {
        "id": "Kwvn7j0VJmrW"
      },
      "source": [
        "learner2.unfreeze() # Ahora debdemos de tener cuidado "
      ],
      "execution_count": null,
      "outputs": []
    },
    {
      "cell_type": "code",
      "metadata": {
        "id": "z9n2NnkZJHuj"
      },
      "source": [
        "learner2.lr_find()"
      ],
      "execution_count": null,
      "outputs": []
    },
    {
      "cell_type": "code",
      "metadata": {
        "id": "Dz857qJtJpBS"
      },
      "source": [
        "learner2.fit_one_cycle(4, lr_max=slice(1e-06, 2e-4)) #Entrenamos con varias learning rates"
      ],
      "execution_count": null,
      "outputs": []
    },
    {
      "cell_type": "code",
      "metadata": {
        "id": "2-oBcPkKJqog"
      },
      "source": [
        "learner2.save('stage2_model2')"
      ],
      "execution_count": null,
      "outputs": []
    },
    {
      "cell_type": "code",
      "metadata": {
        "id": "d93BgoNSJt_k"
      },
      "source": [
        "learner2.show_results(ds_idx=3, dl=data2.train, shuffle=True)"
      ],
      "execution_count": null,
      "outputs": []
    },
    {
      "cell_type": "markdown",
      "metadata": {
        "id": "g4O2a2F7KAiv"
      },
      "source": [
        "###Modelo 3"
      ]
    },
    {
      "cell_type": "code",
      "metadata": {
        "id": "KUCHHh2TKP-q"
      },
      "source": [
        "def load3(folder, size, batch_size):\n",
        "  tfms = fv.aug_transforms(max_rotate= 45,\n",
        "                           flip_vert=True, \n",
        "                           max_lighting=0.40, \n",
        "                           max_zoom=1.2, \n",
        "                           min_zoom=0.2,\n",
        "                           max_warp=0.2,\n",
        "                           do_flip=True\n",
        "                           )\n",
        "  \n",
        "  data = fv.DataBlock(blocks = (fv.ImageBlock, fv.CategoryBlock), \n",
        "                      get_items=fv.get_image_files, \n",
        "                      get_y=fv.parent_label, \n",
        "                      splitter=fv.GrandparentSplitter(),\n",
        "                      item_tfms=fv.Resize(size), \n",
        "                      batch_tfms=tfms,)\n",
        "  return data.dataloaders(folder, bs=batch_size)"
      ],
      "execution_count": null,
      "outputs": []
    },
    {
      "cell_type": "code",
      "metadata": {
        "id": "ny4P1MSsKTJH"
      },
      "source": [
        "data3 = load3(animalitos, size=128, batch_size=128)"
      ],
      "execution_count": null,
      "outputs": []
    },
    {
      "cell_type": "code",
      "metadata": {
        "id": "o51AEelrKaR8"
      },
      "source": [
        "x3,y3 = data3.one_batch()"
      ],
      "execution_count": null,
      "outputs": []
    },
    {
      "cell_type": "markdown",
      "metadata": {
        "id": "3Zsod2L7KHu6"
      },
      "source": [
        "Entrenamiento de las ultimas capas del modelo 3"
      ]
    },
    {
      "cell_type": "code",
      "metadata": {
        "id": "4gYuw63CKEoN"
      },
      "source": [
        "learner3 = fv.cnn_learner(data3, fv.resnet101, metrics=fv.accuracy)"
      ],
      "execution_count": null,
      "outputs": []
    },
    {
      "cell_type": "code",
      "metadata": {
        "id": "FS92bTzPKiM_"
      },
      "source": [
        "learner3.lr_find()"
      ],
      "execution_count": null,
      "outputs": []
    },
    {
      "cell_type": "code",
      "metadata": {
        "id": "6yFmhEm-Klkn"
      },
      "source": [
        "learner3.fit_one_cycle(3, wd=0.1, div=1, div_final=100, pct_start=0.6, lr_max=slice(0.0005754399462603033, 1e-2)) "
      ],
      "execution_count": null,
      "outputs": []
    },
    {
      "cell_type": "code",
      "metadata": {
        "id": "FIWbdzgEKpWZ"
      },
      "source": [
        "learner3.recorder.plot_sched()"
      ],
      "execution_count": null,
      "outputs": []
    },
    {
      "cell_type": "code",
      "metadata": {
        "id": "92chquj3Kr9p"
      },
      "source": [
        "learner3.save('stage1_model3')"
      ],
      "execution_count": null,
      "outputs": []
    },
    {
      "cell_type": "code",
      "metadata": {
        "id": "lS-mPuEOKutD"
      },
      "source": [
        "learner3.show_results(ds_idx=3, dl=data3.train, shuffle=True)"
      ],
      "execution_count": null,
      "outputs": []
    },
    {
      "cell_type": "markdown",
      "metadata": {
        "id": "vgxd8AOJK6Mo"
      },
      "source": [
        "####Entrenamiento de las ultimas capas de modelo 3"
      ]
    },
    {
      "cell_type": "code",
      "metadata": {
        "id": "1xX_YvGnK_2R"
      },
      "source": [
        "learner3 = fv.cnn_learner(data3, fv.resnet18, metrics=fv.accuracy)"
      ],
      "execution_count": null,
      "outputs": []
    },
    {
      "cell_type": "code",
      "metadata": {
        "id": "zYOM0UJZLAap"
      },
      "source": [
        "learner3.lr_find()"
      ],
      "execution_count": null,
      "outputs": []
    },
    {
      "cell_type": "code",
      "metadata": {
        "id": "a49GvhVtLDcO"
      },
      "source": [
        "learner3.fit_one_cycle(3, lr_max=1e-3) "
      ],
      "execution_count": null,
      "outputs": []
    },
    {
      "cell_type": "code",
      "metadata": {
        "id": "Xc11M2XFLJnf"
      },
      "source": [
        "learner3.recorder.plot_sched()"
      ],
      "execution_count": null,
      "outputs": []
    },
    {
      "cell_type": "code",
      "metadata": {
        "id": "j1PYPjf7LNZZ"
      },
      "source": [
        "learner3.save('stage1_model3')"
      ],
      "execution_count": null,
      "outputs": []
    },
    {
      "cell_type": "markdown",
      "metadata": {
        "id": "jbs2okvaLXd_"
      },
      "source": [
        "####Resultados del entrenamiento sin todas las capas"
      ]
    },
    {
      "cell_type": "code",
      "metadata": {
        "id": "wcw8qhVNLfNJ"
      },
      "source": [
        "learner3.show_results(ds_idx=3, dl=data3.train, shuffle=True)"
      ],
      "execution_count": null,
      "outputs": []
    },
    {
      "cell_type": "code",
      "metadata": {
        "id": "Dq5VgtZGLgVj"
      },
      "source": [
        "interp = fv.ClassificationInterpretation.from_learner(learner3)"
      ],
      "execution_count": null,
      "outputs": []
    },
    {
      "cell_type": "code",
      "metadata": {
        "id": "PJagOAdQLjh6"
      },
      "source": [
        "interp.plot_top_losses(9)"
      ],
      "execution_count": null,
      "outputs": []
    },
    {
      "cell_type": "markdown",
      "metadata": {
        "id": "ysgD4pdnLnoI"
      },
      "source": [
        "Notas\n"
      ]
    },
    {
      "cell_type": "code",
      "metadata": {
        "id": "67NNhRHeLpH5"
      },
      "source": [
        "interp.plot_confusion_matrix(dpi = 90,figsize = (6,6))"
      ],
      "execution_count": null,
      "outputs": []
    },
    {
      "cell_type": "markdown",
      "metadata": {
        "id": "jGzk_bPWMIyg"
      },
      "source": [
        "###Modelo 4\n",
        "Con otro resnet"
      ]
    },
    {
      "cell_type": "code",
      "metadata": {
        "id": "9O0IOA06MNAw"
      },
      "source": [
        ""
      ],
      "execution_count": null,
      "outputs": []
    },
    {
      "cell_type": "markdown",
      "metadata": {
        "id": "VNMoVzF8MNmO"
      },
      "source": [
        "###Modelo 5\n",
        "Muchas epocas "
      ]
    },
    {
      "cell_type": "code",
      "metadata": {
        "id": "OgJhdThHMQTL"
      },
      "source": [
        ""
      ],
      "execution_count": null,
      "outputs": []
    },
    {
      "cell_type": "markdown",
      "metadata": {
        "id": "wjy9RiHiMXNm"
      },
      "source": [
        "###Modelo Final\n",
        "High accuracy 20 epocas, resnet 1 y parametros del moche"
      ]
    },
    {
      "cell_type": "code",
      "metadata": {
        "id": "dTJxUT5fMhsv"
      },
      "source": [
        ""
      ],
      "execution_count": null,
      "outputs": []
    }
  ]
}